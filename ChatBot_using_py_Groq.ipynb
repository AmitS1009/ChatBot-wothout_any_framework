{
  "nbformat": 4,
  "nbformat_minor": 0,
  "metadata": {
    "colab": {
      "provenance": []
    },
    "kernelspec": {
      "name": "python3",
      "display_name": "Python 3"
    },
    "language_info": {
      "name": "python"
    }
  },
  "cells": [
    {
      "cell_type": "markdown",
      "source": [
        "####📝 Task 1: Conversation Management with Summarization"
      ],
      "metadata": {
        "id": "ZvX2Cjfhoxyo"
      }
    },
    {
      "cell_type": "markdown",
      "source": [
        "🎯 Goal\n",
        "\n",
        "*Implementionof a system to manage conversation history between user and assistant.\n",
        "Since conversations can become very long, I will add truncation and summarization techniques to keep history concise and efficient.*"
      ],
      "metadata": {
        "id": "PfxlMoGBp0fV"
      }
    },
    {
      "cell_type": "markdown",
      "source": [
        "importing dependencies"
      ],
      "metadata": {
        "id": "qN3y9n2EqMM2"
      }
    },
    {
      "cell_type": "code",
      "source": [
        "!pip install groq"
      ],
      "metadata": {
        "colab": {
          "base_uri": "https://localhost:8080/"
        },
        "id": "j62LJK54pkAD",
        "outputId": "a33195ed-b99d-4bbb-d8fa-3b23c6be8ba8"
      },
      "execution_count": 1,
      "outputs": [
        {
          "output_type": "stream",
          "name": "stdout",
          "text": [
            "Collecting groq\n",
            "  Downloading groq-0.31.1-py3-none-any.whl.metadata (16 kB)\n",
            "Requirement already satisfied: anyio<5,>=3.5.0 in /usr/local/lib/python3.12/dist-packages (from groq) (4.10.0)\n",
            "Requirement already satisfied: distro<2,>=1.7.0 in /usr/local/lib/python3.12/dist-packages (from groq) (1.9.0)\n",
            "Requirement already satisfied: httpx<1,>=0.23.0 in /usr/local/lib/python3.12/dist-packages (from groq) (0.28.1)\n",
            "Requirement already satisfied: pydantic<3,>=1.9.0 in /usr/local/lib/python3.12/dist-packages (from groq) (2.11.7)\n",
            "Requirement already satisfied: sniffio in /usr/local/lib/python3.12/dist-packages (from groq) (1.3.1)\n",
            "Requirement already satisfied: typing-extensions<5,>=4.10 in /usr/local/lib/python3.12/dist-packages (from groq) (4.15.0)\n",
            "Requirement already satisfied: idna>=2.8 in /usr/local/lib/python3.12/dist-packages (from anyio<5,>=3.5.0->groq) (3.10)\n",
            "Requirement already satisfied: certifi in /usr/local/lib/python3.12/dist-packages (from httpx<1,>=0.23.0->groq) (2025.8.3)\n",
            "Requirement already satisfied: httpcore==1.* in /usr/local/lib/python3.12/dist-packages (from httpx<1,>=0.23.0->groq) (1.0.9)\n",
            "Requirement already satisfied: h11>=0.16 in /usr/local/lib/python3.12/dist-packages (from httpcore==1.*->httpx<1,>=0.23.0->groq) (0.16.0)\n",
            "Requirement already satisfied: annotated-types>=0.6.0 in /usr/local/lib/python3.12/dist-packages (from pydantic<3,>=1.9.0->groq) (0.7.0)\n",
            "Requirement already satisfied: pydantic-core==2.33.2 in /usr/local/lib/python3.12/dist-packages (from pydantic<3,>=1.9.0->groq) (2.33.2)\n",
            "Requirement already satisfied: typing-inspection>=0.4.0 in /usr/local/lib/python3.12/dist-packages (from pydantic<3,>=1.9.0->groq) (0.4.1)\n",
            "Downloading groq-0.31.1-py3-none-any.whl (134 kB)\n",
            "\u001b[?25l   \u001b[90m━━━━━━━━━━━━━━━━━━━━━━━━━━━━━━━━━━━━━━━━\u001b[0m \u001b[32m0.0/134.9 kB\u001b[0m \u001b[31m?\u001b[0m eta \u001b[36m-:--:--\u001b[0m\r\u001b[2K   \u001b[90m━━━━━━━━━━━━━━━━━━━━━━━━━━━━━━━━━━━━━━━━\u001b[0m \u001b[32m134.9/134.9 kB\u001b[0m \u001b[31m6.5 MB/s\u001b[0m eta \u001b[36m0:00:00\u001b[0m\n",
            "\u001b[?25hInstalling collected packages: groq\n",
            "Successfully installed groq-0.31.1\n"
          ]
        }
      ]
    },
    {
      "cell_type": "code",
      "source": [
        "!pip install requests"
      ],
      "metadata": {
        "colab": {
          "base_uri": "https://localhost:8080/"
        },
        "id": "8CBlU4JKrqz-",
        "outputId": "1cf54f20-45c2-4dd8-8dc3-c4a55d0d6a89"
      },
      "execution_count": 2,
      "outputs": [
        {
          "output_type": "stream",
          "name": "stdout",
          "text": [
            "Requirement already satisfied: requests in /usr/local/lib/python3.12/dist-packages (2.32.4)\n",
            "Requirement already satisfied: charset_normalizer<4,>=2 in /usr/local/lib/python3.12/dist-packages (from requests) (3.4.3)\n",
            "Requirement already satisfied: idna<4,>=2.5 in /usr/local/lib/python3.12/dist-packages (from requests) (3.10)\n",
            "Requirement already satisfied: urllib3<3,>=1.21.1 in /usr/local/lib/python3.12/dist-packages (from requests) (2.5.0)\n",
            "Requirement already satisfied: certifi>=2017.4.17 in /usr/local/lib/python3.12/dist-packages (from requests) (2025.8.3)\n"
          ]
        }
      ]
    },
    {
      "cell_type": "code",
      "source": [
        "# Imports\n",
        "import json\n",
        "import time\n",
        "import requests\n",
        "from groq import Groq\n"
      ],
      "metadata": {
        "id": "XAc10zTuru8b"
      },
      "execution_count": 3,
      "outputs": []
    },
    {
      "cell_type": "markdown",
      "source": [
        "🔹 Step 1: Conversation History Storage"
      ],
      "metadata": {
        "id": "MFUTJ7dzscu4"
      }
    },
    {
      "cell_type": "code",
      "source": [],
      "metadata": {
        "id": "qVMfeoOjrzB-"
      },
      "execution_count": 17,
      "outputs": []
    },
    {
      "cell_type": "markdown",
      "source": [
        "getting the Groq API keys"
      ],
      "metadata": {
        "id": "1IEWNxZbw3h9"
      }
    },
    {
      "cell_type": "code",
      "source": [
        "import os"
      ],
      "metadata": {
        "id": "RNR5NEcus75h"
      },
      "execution_count": 5,
      "outputs": []
    },
    {
      "cell_type": "code",
      "source": [
        "#storing API in safe env variable\n",
        "\n",
        "os.environ[\"GROQ_API_KEY\"] = \"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\""
      ],
      "metadata": {
        "id": "6lGOudUPxQro"
      },
      "execution_count": 6,
      "outputs": []
    },
    {
      "cell_type": "code",
      "source": [
        "#intialization client\n",
        "\n",
        "client = Groq(api_key=os.environ[\"GROQ_API_KEY\"])"
      ],
      "metadata": {
        "id": "zCms0wshxjrt"
      },
      "execution_count": 8,
      "outputs": []
    },
    {
      "cell_type": "code",
      "source": [
        "# --- GLOBAL HISTORY ---\n",
        "convo_history = [\n",
        "    {\"role\": \"user\", \"content\": \"hello\"},\n",
        "    {\"role\": \"assistant\", \"content\": \"hi! how can I help you?\"}\n",
        "]"
      ],
      "metadata": {
        "id": "fX3bVTfPAp5Y"
      },
      "execution_count": 28,
      "outputs": []
    },
    {
      "cell_type": "code",
      "source": [
        "# --- CONFIG ---\n",
        "MAX_TURNS = 3\n",
        "SUMMARIZE_AFTER_N_TURNS = 3\n",
        "MODEL_NAME = \"llama-3.1-8b-instant\""
      ],
      "metadata": {
        "id": "4dMLYnqg2h86"
      },
      "execution_count": 32,
      "outputs": []
    },
    {
      "cell_type": "code",
      "source": [
        "# --- TRUNCATE FUNCTION ---\n",
        "def truncate_history(history, max_turns):\n",
        "    max_messages = max_turns * 2\n",
        "    if len(history) > max_messages:\n",
        "        history[:] = history[-max_messages:]"
      ],
      "metadata": {
        "id": "WXUFqlnK2-rI"
      },
      "execution_count": 33,
      "outputs": []
    },
    {
      "cell_type": "code",
      "source": [
        "\n",
        "# --- CHAT LOOP ---\n",
        "while True:\n",
        "    user_input = input(\"User: \")\n",
        "    if user_input.lower() in [\"exit\", \"quit\"]:\n",
        "        print(\"Chat ended.\")\n",
        "        break\n",
        "\n",
        "    # 1. Add user message\n",
        "    convo_history.append({\"role\": \"user\", \"content\": user_input})\n",
        "\n",
        "    # 2. Truncate history (keep last N turns)\n",
        "    truncate_history(convo_history, MAX_TURNS)\n",
        "\n",
        "    # 3. Call model\n",
        "    response = client.chat.completions.create(\n",
        "        model=MODEL_NAME,\n",
        "        messages=convo_history\n",
        "    )\n",
        "    assistant_reply = response.choices[0].message.content\n",
        "\n",
        "    # 4. Add assistant reply\n",
        "    convo_history.append({\"role\": \"assistant\", \"content\": assistant_reply})\n",
        "\n",
        "    # 5. Truncate again (after adding assistant reply)\n",
        "    truncate_history(convo_history, MAX_TURNS)\n",
        "\n",
        "    # 6. Print reply\n",
        "    print(f\"Assistant: {assistant_reply}\")\n",
        "\n",
        "    # 7. PERIODIC SUMMARIZATION — AFTER EVERY K-TURNS (i.e., 6 messages)\n",
        "    if len(convo_history) % (SUMMARIZE_AFTER_N_TURNS * 2) == 0:\n",
        "        print(\"\\n🔄 Summarizing conversation history...\\n\")\n",
        "\n",
        "        # Take ALL messages EXCEPT the very last one (which is just added assistant reply)\n",
        "        # We summarize everything UP TO the last user message\n",
        "        messages_to_summarize = convo_history[:-1]\n",
        "\n",
        "        summary_prompt = {\n",
        "            \"role\": \"user\",\n",
        "            \"content\": f\"\"\"\n",
        "Summarize this conversation concisely in one paragraph.\n",
        "Keep only key context — names, decisions, goals, facts.\n",
        "Do NOT include greetings or small talk.\n",
        "Conversation:\n",
        "{json.dumps(messages_to_summarize, indent=1)}\n",
        "\"\"\"\n",
        "        }\n",
        "\n",
        "        try:\n",
        "            summary_response = client.chat.completions.create(\n",
        "                model=MODEL_NAME,\n",
        "                messages=[summary_prompt]\n",
        "            )\n",
        "            summary_text = summary_response.choices[0].message.content.strip()\n",
        "\n",
        "            # REPLACE ENTIRE HISTORY with summary + last assistant reply\n",
        "            convo_history[:] = [\n",
        "                {\"role\": \"system\", \"content\": f\"[Summary of prior conversation: {summary_text}]\"},\n",
        "                convo_history[-1]  # Keep the latest assistant reply for context\n",
        "            ]\n",
        "            print(f\"📌 Summary stored: {summary_text[:200]}...\")\n",
        "\n",
        "        except Exception as e:\n",
        "            print(f\"⚠️ Summary failed: {e}\")"
      ],
      "metadata": {
        "colab": {
          "base_uri": "https://localhost:8080/"
        },
        "id": "huMe2rtKHr7r",
        "outputId": "143188d1-b87a-422a-aa48-525b42bc63d5"
      },
      "execution_count": 31,
      "outputs": [
        {
          "output_type": "stream",
          "name": "stdout",
          "text": [
            "User: HIiii\n",
            "Assistant: You're excited. What's on your mind? Want to chat or talk about something specific?\n",
            "User: whassup budy\n",
            "Assistant: Not much, just hanging out virtually. How about you? How's your day going so far?\n",
            "\n",
            "🔄 Summarizing conversation history...\n",
            "\n",
            "📌 Summary stored: There is no conversation to summarize as the initial exchange was composed of friendly greetings without any specific context, goals, or decisions....\n",
            "User: tell me about albert camus\n",
            "Assistant: Albert Camus (1913-1960) was a French philosopher, novelist, journalist, and playwright who made a profound impact on 20th-century thought. He is widely regarded as one of the most influential thinkers of his time, and his ideas continue to resonate today.\n",
            "\n",
            "**Early Life and Influences**\n",
            "\n",
            "Camus was born in Dréan, Algeria, to a French-Algerian family. Growing up during World War II, he was influenced by his family's modest means and the struggle for independence in Algeria, which shaped his views on social justice and the human condition.\n",
            "\n",
            "**Philosophy and Existentialism**\n",
            "\n",
            "Camus was a key figure in the existentialist movement, which emphasized individual freedom and choice. He is known for his \"absurdism,\" the idea that humanity seeks meaning and purpose in a seemingly meaningless and indifferent universe. Camus's philosophy focused on the human condition, ethics, and the search for meaning in a world without objective values.\n",
            "\n",
            "**Major Works**\n",
            "\n",
            "Some of Camus's most notable works include:\n",
            "\n",
            "1. **The Stranger (1942)**: Camus's first novel, a classic of existentialist literature, tells the story of a young Algerian man who commits a senseless murder and explores the absurdity of the human condition.\n",
            "2. **The Myth of Sisyphus (1942)**: A philosophical essay that explores the concept of the absurd and the search for meaning in a seemingly meaningless world.\n",
            "3. **The Rebel (1951)**: A philosophical work that examines the concept of rebellion and its relationship to the human condition.\n",
            "4. **The Plague (1947)**: A novel set during the World War II occupation of France, which explores themes of morality, solidarity, and the human condition in the face of suffering.\n",
            "\n",
            "**Key Ideas and Concepts**\n",
            "\n",
            "1. **Absurdism**: The idea that humanity's search for meaning and purpose in life is inherently at odds with the indifference and meaninglessness of the universe.\n",
            "2. **The Myth of Sisyphus**: Camus's concept of the absurd, which explores the idea of a meaningless life and the search for meaning in a seemingly purposeless world.\n",
            "3. **The Human Condition**: Camus's focus on the everyday human experience, emphasizing the importance of living in the present moment and finding meaning in the mundane.\n",
            "4. **Social Justice**: Camus's commitment to social justice and his critique of imperialism, racism, and fascism.\n",
            "\n",
            "**Legacy and Impact**\n",
            "\n",
            "Camus's ideas have had a profound impact on modern philosophy, literature, and politics. His philosophy has influenced thinkers such as Jean-Paul Sartre, Martin Heidegger, and Simone de Beauvoir, among many others. His literary works have inspired countless readers and writers, and his ideas continue to shape contemporary debates on ethics, politics, and the human condition.\n",
            "\n",
            "Camus was awarded the Nobel Prize in Literature in 1957, but declined it, stating that he did not wish to be a \"literary laureate.\" His legacy continues to inspire and challenge readers today, offering a profound and thought-provoking exploration of the human condition.\n",
            "User: tell me about sartare\n",
            "Assistant: Jean-Paul Sartre (1905-1980) was a French philosopher, playwright, and literary critic who made a significant impact on 20th-century philosophy, particularly in the fields of existentialism, phenomenology, and hermeneutics. He is widely regarded as one of the most influential thinkers of the 20th century.\n",
            "\n",
            "**Early Life and Influences**\n",
            "\n",
            "Sartre was born in Paris, France, to a family of modest means. His mother died when he was just 15 months old, and his father, a naval officer, suffered from depression and was often absent. Sartre's early life was marked by poverty and instability, which may have contributed to his later philosophical emphasis on freedom and choice.\n",
            "\n",
            "**Influences and Education**\n",
            "\n",
            "Sartre's philosophical development was influenced by various thinkers, including:\n",
            "\n",
            "1. **Phenomenology**: He studied under the French phenomenologist Edmund Husserl, whose work focused on conscious experience and the structure of subjective experience.\n",
            "2. **Kierkegaard**: Sartre was deeply influenced by the Danish philosopher Søren Kierkegaard, who emphasized individual subjectivity, faith, and the importance of subjective experience.\n",
            "3. **Marxism**: Sartre's early work was influenced by Marxism, which he later critiqued, but continued to draw upon for his concept of \"bad faith\" (mauvaise foi).\n",
            "\n",
            "**Key Ideas and Concepts**\n",
            "\n",
            "Sartre's philosophy centered on the concept of existentialism, which emphasizes human freedom and choice. Some of his key ideas include:\n",
            "\n",
            "1. **Existentialism**: The idea that human beings have complete freedom to choose their actions and create their own meaning in life.\n",
            "2. **Being-for-itself (Être-pour-soi)**: Human existence characterized by freedom, choice, and the responsibility that comes with it.\n",
            "3. **Bad faith (mauvaise foi)**: The tendency to deny or repress the reality of human freedom, often taking refuge in dogmatic or oppressive structures.\n",
            "4. **The Human Project**: The idea that human beings are responsible for creating their own values, meanings, and purposes in life.\n",
            "\n",
            "**Major Works**\n",
            "\n",
            "Some of Sartre's most notable works include:\n",
            "\n",
            "1. **Being and Nothingness (1943)**: A philosophical treatise that explores the concept of existentialism and the human condition.\n",
            "2. **Existentialism is a Humanism (1946)**: A lecture that outlines the core principles of existentialism and its implications for human existence.\n",
            "3. **Nausea (1938)**: A philosophical novel that explores the concept of being and nothingness through a fictional narrative.\n",
            "4. **No Exit (1944)**: A play that examines the concept of bad faith and the human condition through the story of three characters trapped in a room together.\n",
            "\n",
            "**Influence and Legacy**\n",
            "\n",
            "Sartre's ideas have had a profound impact on modern philosophy, literature, and politics. His existentialism has influenced thinkers such as Martin Heidegger, Merleau-Ponty, and Simone de Beauvoir, among many others. His concept of bad faith has been applied in various fields, including psychology, sociology, and cultural studies.\n",
            "\n",
            "Sartre was awarded the Nobel Prize in Literature in 1964, but declined it, stating that he did not wish to submit to the authority of the Swedish Academy. His legacy continues to shape contemporary debates on existentialism, phenomenology, and hermeneutics.\n",
            "\n",
            "**Personal Life and Later Years**\n",
            "\n",
            "Sartre lived an openly gay life, which was rare for the time, and had a long-term relationship with the French author Simone de Beauvoir. They did not marry, but were in a committed relationship for over 50 years. Sartre died on April 15, 1980, at the age of 74.\n",
            "\n",
            "🔄 Summarizing conversation history...\n",
            "\n",
            "📌 Summary stored: Albert Camus was discussed, with information provided on his life, influences, philosophy of existentialism and absurdism, notable works such as \"The Stranger\" and \"The Myth of Sisyphus\", and key idea...\n",
            "User: quit\n",
            "Chat ended.\n"
          ]
        }
      ]
    }
  ]
}